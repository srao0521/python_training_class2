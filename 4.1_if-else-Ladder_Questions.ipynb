{
 "cells": [
  {
   "cell_type": "raw",
   "metadata": {},
   "source": [
    "Read Five marks tamil,english,maths,science and social and if all marks are greater than 35 , print pass else print fail"
   ]
  },
  {
   "cell_type": "code",
   "execution_count": 1,
   "metadata": {},
   "outputs": [
    {
     "name": "stdin",
     "output_type": "stream",
     "text": [
      "Enter Tamil marks:  34\n",
      "Enter English marks:  35\n",
      "Enter Maths marks:  44\n",
      "Enter Science marks:  55\n",
      "Enter Social marks:  88\n"
     ]
    },
    {
     "name": "stdout",
     "output_type": "stream",
     "text": [
      "fail\n"
     ]
    }
   ],
   "source": [
    "subjects = [\"Tamil\", \"English\", \"Maths\", \"Science\", \"Social\"]\n",
    "marks = {}\n",
    "\n",
    "for subject in subjects:\n",
    "    marks[subject] = int(input(f\"Enter {subject} marks: \"))\n",
    "\n",
    "if all(mark > 35 for mark in marks.values()):\n",
    "    print(\"pass\")\n",
    "else:\n",
    "    print(\"fail\")"
   ]
  },
  {
   "cell_type": "code",
   "execution_count": 3,
   "metadata": {},
   "outputs": [
    {
     "name": "stdin",
     "output_type": "stream",
     "text": [
      "Enter Tamil marks:  55\n",
      "Enter English marks:  44\n",
      "Enter Maths marks:  66\n",
      "Enter Science marks:  77\n",
      "Enter Social marks:  88\n"
     ]
    },
    {
     "name": "stdout",
     "output_type": "stream",
     "text": [
      "pass\n"
     ]
    }
   ],
   "source": [
    "tamil = int(input(\"Enter Tamil marks: \"))\n",
    "english = int(input(\"Enter English marks: \"))\n",
    "maths = int(input(\"Enter Maths marks: \"))\n",
    "science = int(input(\"Enter Science marks: \"))\n",
    "social = int(input(\"Enter Social marks: \"))\n",
    "\n",
    "\n",
    "if tamil > 35 and english > 35 and maths > 35 and science > 35 and social > 35:\n",
    "    print(\"pass\")\n",
    "else:\n",
    "    print(\"fail\")"
   ]
  },
  {
   "cell_type": "code",
   "execution_count": null,
   "metadata": {},
   "outputs": [],
   "source": []
  }
 ],
 "metadata": {
  "kernelspec": {
   "display_name": "Python [conda env:base] *",
   "language": "python",
   "name": "conda-base-py"
  },
  "language_info": {
   "codemirror_mode": {
    "name": "ipython",
    "version": 3
   },
   "file_extension": ".py",
   "mimetype": "text/x-python",
   "name": "python",
   "nbconvert_exporter": "python",
   "pygments_lexer": "ipython3",
   "version": "3.12.7"
  }
 },
 "nbformat": 4,
 "nbformat_minor": 4
}
